{
  "nbformat": 4,
  "nbformat_minor": 0,
  "metadata": {
    "colab": {
      "provenance": []
    },
    "kernelspec": {
      "name": "python3",
      "display_name": "Python 3"
    },
    "language_info": {
      "name": "python"
    }
  },
  "cells": [
    {
      "cell_type": "code",
      "execution_count": 6,
      "metadata": {
        "colab": {
          "base_uri": "https://localhost:8080/"
        },
        "id": "mtmq2swTZKKP",
        "outputId": "4d14753a-6f49-48bc-9e60-01edec2dc65f"
      },
      "outputs": [
        {
          "output_type": "stream",
          "name": "stdout",
          "text": [
            "Digite o primeiro número: 4\n",
            "Digite o segundo número: 2\n",
            "Escolha a operação:\n",
            "1 - Adição\n",
            "2 - Subtração\n",
            "3 - Multiplicação\n",
            "4 - Divisão\n",
            "5 - Sair do programa\n",
            "qual a  operação desejada: 3\n",
            "Resultado da multiplicação: 8.0\n",
            "Digite o primeiro número: 2\n",
            "Digite o segundo número: 3\n",
            "Escolha a operação:\n",
            "1 - Adição\n",
            "2 - Subtração\n",
            "3 - Multiplicação\n",
            "4 - Divisão\n",
            "5 - Sair do programa\n",
            "qual a  operação desejada: 5\n",
            "Saindo do programa...\n"
          ]
        }
      ],
      "source": [
        "while True:\n",
        "    # Recebendo os números do gerson\n",
        "    num1 = input(\"Digite o primeiro número: \")\n",
        "    num2 = input(\"Digite o segundo número: \")\n",
        "\n",
        "    # Convertendo os valores para float\n",
        "    num1 = float(num1)\n",
        "    num2 = float(num2)\n",
        "\n",
        "    # Menu de operações do usuário\n",
        "    print(\"Escolha a operação:\")\n",
        "    print(\"1 - Adição\")\n",
        "    print(\"2 - Subtração\")\n",
        "    print(\"3 - Multiplicação\")\n",
        "    print(\"4 - Divisão\")\n",
        "    print(\"5 - Sair do programa\")\n",
        "\n",
        "    opcao = input(\"qual a  operação desejada: \")\n",
        "\n",
        "    if opcao == '1':\n",
        "        resultado = num1 + num2\n",
        "        print(f\"Resultado da adição: {resultado}\")\n",
        "    elif opcao == '2':\n",
        "        resultado = num1 - num2\n",
        "        print(f\"Resultado da subtração: {resultado}\")\n",
        "    elif opcao == '3':\n",
        "        resultado = num1 * num2\n",
        "        print(f\"Resultado da multiplicação: {resultado}\")\n",
        "    elif opcao == '4':\n",
        "        if num2 != 0:\n",
        "            resultado = num1 / num2\n",
        "            print(f\"Resultado da divisão: {resultado}\")\n",
        "        else:\n",
        "            print(\"Erro: Divisão por zero não é permitida.\")\n",
        "    elif opcao == '5':\n",
        "        print(\"Saindo do programa...\")\n",
        "        break\n",
        "    else:\n",
        "        print(\"Opção inválida. Por favor, escolha uma opção válida.\")\n"
      ]
    }
  ]
}