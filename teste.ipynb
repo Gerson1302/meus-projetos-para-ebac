{
  "nbformat": 4,
  "nbformat_minor": 0,
  "metadata": {
    "colab": {
      "provenance": []
    },
    "kernelspec": {
      "name": "python3",
      "display_name": "Python 3"
    },
    "language_info": {
      "name": "python"
    }
  },
  "cells": [
    {
      "cell_type": "code",
      "source": [
        "# if\n",
        "if 5> 10:\n",
        "  print(\"verdade\")"
      ],
      "metadata": {
        "id": "UKnhagZdNblz"
      },
      "execution_count": 35,
      "outputs": []
    },
    {
      "cell_type": "code",
      "source": [
        "# if/else\n",
        "num1=35\n",
        "num2=25\n",
        "if num1> num2:\n",
        "  print(\"o num1 é o maior numero\")\n",
        "else:\n",
        "    print(\"o num2 é o maior número\")"
      ],
      "metadata": {
        "colab": {
          "base_uri": "https://localhost:8080/"
        },
        "id": "QPur4KoeJ522",
        "outputId": "18d3c3a8-1ec9-4b5f-82ed-3e1c4b4f5898"
      },
      "execution_count": 20,
      "outputs": [
        {
          "output_type": "stream",
          "name": "stdout",
          "text": [
            "o num1 é o maior numero\n"
          ]
        }
      ]
    },
    {
      "cell_type": "code",
      "source": [],
      "metadata": {
        "id": "pXR6Vcc7Rcmg"
      },
      "execution_count": null,
      "outputs": []
    },
    {
      "cell_type": "code",
      "source": [
        "# if / Elif / Else\n",
        "num1 = 40\n",
        "num2 = 10\n",
        "if num1 > num2:\n",
        "  print(\"o num1 é o maior número\")\n",
        "elif num1 < num2:\n",
        "    print(\"o num2 é o maior número\")\n",
        "else:\n",
        "      print(\"os dois são iguais\")"
      ],
      "metadata": {
        "colab": {
          "base_uri": "https://localhost:8080/"
        },
        "id": "MX8ZLi3aN952",
        "outputId": "7416b757-2285-4532-f52e-be33e1bd7e95"
      },
      "execution_count": 32,
      "outputs": [
        {
          "output_type": "stream",
          "name": "stdout",
          "text": [
            "o num1 é o maior número\n"
          ]
        }
      ]
    },
    {
      "cell_type": "code",
      "source": [
        "num1 = 10\n",
        "num2 = 5\n",
        "num3 = 20\n",
        "if (num1 > num2) and (num1 > num3):\n",
        "  print(\"o num1 é o maior número\")\n",
        "else:\n",
        "  print(\"o num1 não é o maior número\")"
      ],
      "metadata": {
        "colab": {
          "base_uri": "https://localhost:8080/"
        },
        "id": "9BW5eao3PZmM",
        "outputId": "9a4926a4-e89d-4157-c34d-2c446bb89b90"
      },
      "execution_count": 34,
      "outputs": [
        {
          "output_type": "stream",
          "name": "stdout",
          "text": [
            "o num1 não é o maior número\n"
          ]
        }
      ]
    },
    {
      "cell_type": "code",
      "source": [
        "# Lista\n",
        "[1,2,3,4,5]"
      ],
      "metadata": {
        "colab": {
          "base_uri": "https://localhost:8080/"
        },
        "id": "SHuYfkVfRhF8",
        "outputId": "16a6f45d-b7ea-4481-fdad-56d65fce4e07"
      },
      "execution_count": 38,
      "outputs": [
        {
          "output_type": "execute_result",
          "data": {
            "text/plain": [
              "[1, 2, 3, 4, 5]"
            ]
          },
          "metadata": {},
          "execution_count": 38
        }
      ]
    },
    {
      "cell_type": "code",
      "source": [
        "# Tupla\n",
        "(1,2,3,4,5)"
      ],
      "metadata": {
        "colab": {
          "base_uri": "https://localhost:8080/"
        },
        "id": "GmqqmWjRRusF",
        "outputId": "7dab75be-80ed-4abb-fc8b-79d805803d35"
      },
      "execution_count": 39,
      "outputs": [
        {
          "output_type": "execute_result",
          "data": {
            "text/plain": [
              "(1, 2, 3, 4, 5)"
            ]
          },
          "metadata": {},
          "execution_count": 39
        }
      ]
    },
    {
      "cell_type": "code",
      "source": [
        "# Dicionário\n",
        "{\"num1\": 1, \"num2\": 2}"
      ],
      "metadata": {
        "colab": {
          "base_uri": "https://localhost:8080/"
        },
        "id": "nt2aKbkzR3I2",
        "outputId": "0e8776a6-8757-4036-f8b5-613aa2a666c4"
      },
      "execution_count": 40,
      "outputs": [
        {
          "output_type": "execute_result",
          "data": {
            "text/plain": [
              "{'num1': 1, 'num2': 2}"
            ]
          },
          "metadata": {},
          "execution_count": 40
        }
      ]
    }
  ]
}